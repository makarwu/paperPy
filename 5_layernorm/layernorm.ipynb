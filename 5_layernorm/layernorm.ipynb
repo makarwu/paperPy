{
 "cells": [
  {
   "cell_type": "markdown",
   "metadata": {},
   "source": [
    "## Limitations of **Batch Normalization**:\n",
    "- You need to maintain running means\n",
    "- Tricky for RNNs. Do you need normalization for each step?\n",
    "- Doens't work with small batch sizes\n",
    "- Need to compute means and variances across devices in distributed training"
   ]
  },
  {
   "cell_type": "markdown",
   "metadata": {},
   "source": [
    "## Layer Normalization\n",
    "- Layer Normalization is a simpler normalization method that works on a wider range of settings\n",
    "- It transforms the inputs to have zero mean and variance **across all features** \n",
    "- Note: BN fixes the zero mean and unit variance **for each element**\n",
    "- Layer normalization does it for each batch across all elements!"
   ]
  }
 ],
 "metadata": {
  "kernelspec": {
   "display_name": "base",
   "language": "python",
   "name": "python3"
  },
  "language_info": {
   "name": "python",
   "version": "3.12.4"
  }
 },
 "nbformat": 4,
 "nbformat_minor": 2
}
